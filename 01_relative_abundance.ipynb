{
 "cells": [
  {
   "cell_type": "markdown",
   "id": "3c6de91a",
   "metadata": {},
   "source": [
    "### 🧪 OTU Relative Abundance Calculator\n",
    "\n",
    "This script allows users to select an OTU table (in CSV format) and compute the **relative abundance** for each taxon across samples.\n",
    "\n",
    "#### ✅ Functionality:\n",
    "- Opens a file selection window to let the user choose a CSV file.\n",
    "- Treats the first column as row index (e.g. OTU ID or Taxa name).\n",
    "- Calculates relative abundance by normalizing each sample column to its total.\n",
    "- Saves the result to a new file named `*_relative_abundance.csv`.\n",
    "\n",
    "#### 🛠️ Requirements:\n",
    "- `pandas`\n",
    "- `tkinter` (built-in in most Python installations)\n",
    "\n",
    "#### 📥 Example Output:\n",
    "If your input file is `otu_counts.csv`, the script will generate:\n"
   ]
  },
  {
   "cell_type": "code",
   "execution_count": 1,
   "id": "18c5321f",
   "metadata": {},
   "outputs": [
    {
     "name": "stdout",
     "output_type": "stream",
     "text": [
      "Selected file path: D:/1 Academic/12 Github/Transcriptomics_Preview.csv\n",
      "Relative abundance calculated and saved to: D:/1 Academic/12 Github/Transcriptomics_Preview_relative_abundance.csv\n"
     ]
    }
   ],
   "source": [
    "import pandas as pd\n",
    "from tkinter import Tk\n",
    "from tkinter.filedialog import askopenfilename\n",
    "\n",
    "# Open a file selection dialog\n",
    "Tk().withdraw()  # Hide the root Tkinter window\n",
    "file_path = askopenfilename(\n",
    "    title=\"Select your OTU table file\",\n",
    "    filetypes=[(\"CSV files\", \"*.csv\")]\n",
    ")\n",
    "\n",
    "# Check if a file was selected\n",
    "if not file_path:\n",
    "    print(\"No file selected. Please rerun and choose a file.\")\n",
    "else:\n",
    "    print(f\"Selected file path: {file_path}\")\n",
    "\n",
    "    # Load the data and calculate relative abundance\n",
    "    otu_df = pd.read_csv(file_path)\n",
    "    otu_df.set_index(otu_df.columns[0], inplace=True)\n",
    "    relative_abundance = otu_df.div(otu_df.sum(axis=0), axis=1)\n",
    "\n",
    "    # Save the results\n",
    "    output_file = file_path.replace('.csv', '_relative_abundance.csv')\n",
    "    relative_abundance.to_csv(output_file)\n",
    "    print(f\"Relative abundance calculated and saved to: {output_file}\")\n"
   ]
  },
  {
   "cell_type": "code",
   "execution_count": null,
   "id": "b51f324b-7f48-4b3a-a0c8-a2ee27dad8f8",
   "metadata": {},
   "outputs": [],
   "source": []
  }
 ],
 "metadata": {
  "kernelspec": {
   "display_name": "Python [conda env:base] *",
   "language": "python",
   "name": "conda-base-py"
  },
  "language_info": {
   "codemirror_mode": {
    "name": "ipython",
    "version": 3
   },
   "file_extension": ".py",
   "mimetype": "text/x-python",
   "name": "python",
   "nbconvert_exporter": "python",
   "pygments_lexer": "ipython3",
   "version": "3.11.13"
  }
 },
 "nbformat": 4,
 "nbformat_minor": 5
}
